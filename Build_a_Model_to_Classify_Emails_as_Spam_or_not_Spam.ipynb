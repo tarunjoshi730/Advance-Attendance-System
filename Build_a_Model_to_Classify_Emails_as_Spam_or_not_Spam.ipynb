{
  "nbformat": 4,
  "nbformat_minor": 0,
  "metadata": {
    "colab": {
      "provenance": [],
      "authorship_tag": "ABX9TyOGt+W+pWA0XyNzJuFgXnsN",
      "include_colab_link": true
    },
    "kernelspec": {
      "name": "python3",
      "display_name": "Python 3"
    },
    "language_info": {
      "name": "python"
    }
  },
  "cells": [
    {
      "cell_type": "markdown",
      "metadata": {
        "id": "view-in-github",
        "colab_type": "text"
      },
      "source": [
        "<a href=\"https://colab.research.google.com/github/tarunjoshi730/Advance-Attendance-System/blob/main/Build_a_Model_to_Classify_Emails_as_Spam_or_not_Spam.ipynb\" target=\"_parent\"><img src=\"https://colab.research.google.com/assets/colab-badge.svg\" alt=\"Open In Colab\"/></a>"
      ]
    },
    {
      "cell_type": "code",
      "execution_count": 1,
      "metadata": {
        "id": "E7iR9YNk4gOb"
      },
      "outputs": [],
      "source": [
        "import pandas as pd"
      ]
    },
    {
      "cell_type": "code",
      "source": [
        "data = {\n",
        "'email': [\n",
        "'Free money!!!',\n",
        "'Hi Bob, how about a game of golf tomorrow?',\n",
        "'Limited time offer, buy now!',\n",
        "'Are you available for a meeting tomorrow?',\n",
        "'Congratulations, you have won a lottery!'\n",
        "],\n",
        "'label': ['spam', 'not spam', 'spam', 'not spam', 'spam']\n",
        "}"
      ],
      "metadata": {
        "id": "p_dwEOsL5iB_"
      },
      "execution_count": 2,
      "outputs": []
    },
    {
      "cell_type": "code",
      "source": [
        "df = pd.DataFrame(data)\n"
      ],
      "metadata": {
        "id": "b7YJzMYd5moh"
      },
      "execution_count": 3,
      "outputs": []
    },
    {
      "cell_type": "code",
      "source": [
        "print(df)"
      ],
      "metadata": {
        "colab": {
          "base_uri": "https://localhost:8080/"
        },
        "id": "lat-OGBx5rZZ",
        "outputId": "c29ead44-41c2-439d-b2db-222d008565ab"
      },
      "execution_count": 4,
      "outputs": [
        {
          "output_type": "stream",
          "name": "stdout",
          "text": [
            "                                        email     label\n",
            "0                               Free money!!!      spam\n",
            "1  Hi Bob, how about a game of golf tomorrow?  not spam\n",
            "2                Limited time offer, buy now!      spam\n",
            "3   Are you available for a meeting tomorrow?  not spam\n",
            "4    Congratulations, you have won a lottery!      spam\n"
          ]
        }
      ]
    },
    {
      "cell_type": "code",
      "source": [
        "from sklearn.feature_extraction.text import CountVectorizer\n",
        "from sklearn.model_selection import train_test_split\n",
        "from sklearn.naive_bayes import MultinomialNB\n",
        "from sklearn.metrics import accuracy_score, classification_report\n"
      ],
      "metadata": {
        "id": "pyHdckvv5soL"
      },
      "execution_count": 15,
      "outputs": []
    },
    {
      "cell_type": "code",
      "source": [
        "# Convert text to lowercase\n",
        "df['email'] = df['email'].str.lower()"
      ],
      "metadata": {
        "id": "woeLmcjg50qW"
      },
      "execution_count": 27,
      "outputs": []
    },
    {
      "cell_type": "code",
      "source": [
        "# Split the data into training and testing sets\n",
        "X_train, X_test, y_train, y_test = train_test_split(df['email'], df['label'], test_size=0.2, random_state=42)"
      ],
      "metadata": {
        "id": "oqR8pTPL53Ja"
      },
      "execution_count": 30,
      "outputs": []
    },
    {
      "cell_type": "code",
      "source": [
        "# Vectorize the text data\n",
        "vectorizer = CountVectorizer()\n",
        "X_train_vec = vectorizer.fit_transform(X_train)\n",
        "X_test_vec = vectorizer.transform(X_test)\n",
        "# Train the model\n",
        "model = MultinomialNB()\n",
        "model.fit(X_train_vec, y_train)\n",
        "# Model evaluation\n",
        "y_pred = model.predict(X_test_vec)\n",
        "accuracy = accuracy_score(y_test, y_pred)\n",
        "report = classification_report(y_test, y_pred, zero_division=0)\n",
        "print(f'Accuracy: {accuracy}')\n",
        "print('Classification Report:')\n",
        "print(report)"
      ],
      "metadata": {
        "colab": {
          "base_uri": "https://localhost:8080/"
        },
        "id": "NDb-94bY8X2v",
        "outputId": "685c2700-827e-4f6a-c4ee-151ce7968394"
      },
      "execution_count": 31,
      "outputs": [
        {
          "output_type": "stream",
          "name": "stdout",
          "text": [
            "Accuracy: 0.0\n",
            "Classification Report:\n",
            "              precision    recall  f1-score   support\n",
            "\n",
            "    not spam       0.00      0.00      0.00       1.0\n",
            "        spam       0.00      0.00      0.00       0.0\n",
            "\n",
            "    accuracy                           0.00       1.0\n",
            "   macro avg       0.00      0.00      0.00       1.0\n",
            "weighted avg       0.00      0.00      0.00       1.0\n",
            "\n"
          ]
        }
      ]
    },
    {
      "cell_type": "markdown",
      "source": [
        "Build a model to classify emails as spam or not spam, we can use a machine learning approach.\n",
        "We'll use a small, labeled dataset and the scikit-learn library in Python. Here's a step-by-step\n",
        "guide to achieve this:\n",
        "* 1. Load and Prepare the Dataset: We'll use a simple dataset with labeled emails.\n",
        "* 2. Text Preprocessing: We'll clean and vectorize the text data.\n",
        "* 3. Model Training: We'll use a machine learning model like Naive Bayes, which is well\n",
        "suited for text classification.\n",
        "* 4. Model Evaluation: We'll evaluate the model's performance using accuracy and other metrics.\n",
        "Let's start by creating a small example dataset and implementing the model."
      ],
      "metadata": {
        "id": "YyR044yMLf-5"
      }
    }
  ]
}